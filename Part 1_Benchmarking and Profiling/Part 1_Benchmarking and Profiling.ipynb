{
 "cells": [
  {
   "cell_type": "markdown",
   "id": "138e0e2a",
   "metadata": {},
   "source": [
    "# Part 1. Benchmarking and Profiling\n",
    "\n",
    "The Julia set is an interesting CPU-bound problem, it is a fractal sequence that generates a complex output image, named after Gaston Julia.\n",
    "\n",
    "## Step 1\n",
    "\n",
    "After reading the sections **\"Introducing the Julia Set\"** and **\"Calculating the Full Julia Set\"** on **Chapter 2** from the book **_High Performance Python_**, I'll implement the chapter functions in order to calculate the Julia Set and make a representation for the false gray and pure gray scale."
   ]
  },
  {
   "cell_type": "code",
   "execution_count": 1,
   "id": "0dd98b4e",
   "metadata": {},
   "outputs": [],
   "source": [
    "# Example 2-1. Defining global constants for the coordinate space\n",
    "'''Julia set generator without optional PIL-based image drawing'''\n",
    "import time\n",
    "\n",
    "# area of complex space to investigate\n",
    "x1, x2, y1, y2 = -1.8, 1.8, -1.8, 1.8\n",
    "c_real, c_imag = -0.62772, -.42193"
   ]
  },
  {
   "cell_type": "markdown",
   "id": "8f78b73b",
   "metadata": {},
   "source": [
    "To generate the plot, two lists of input data are created. The first is `zs` (complex z-coordinates) and the second is `cs` (a complex initial condition). To build them, it is necessary to know the coordinates for each z. In the following code, those coordinates are build using `xcoord` and `ycoord` and a specified `x_step`. "
   ]
  },
  {
   "cell_type": "code",
   "execution_count": 2,
   "id": "4eef767e",
   "metadata": {},
   "outputs": [],
   "source": [
    "# Example 2-2. stablishing the coordinate lists as inputs to our\n",
    "# calculation function\n",
    "\n",
    "def calc_pure_python(desired_width, max_iterations, return_output=False):\n",
    "    '''Create a list of complex coordinates (zc) and complex\n",
    "    parameters (cs), build Julia set, and display'''\n",
    "    x_step = (float(x2 - x1) / float(desired_width))\n",
    "    y_step = (float(y1 - y2) / float(desired_width))\n",
    "    x = []\n",
    "    y = []\n",
    "    ycoord = y2\n",
    "    while ycoord > y1:\n",
    "        y.append(ycoord)\n",
    "        ycoord += y_step\n",
    "    xcoord = x1\n",
    "    while xcoord < x2:\n",
    "        x.append(xcoord)\n",
    "        xcoord += x_step\n",
    "    # Build a list of coordinates and the initial condition for each cell.\n",
    "    # Note that our initial condition is a constant and could easily be removed;\n",
    "    # we use it to simulate a real-world scenario with several inputs to\n",
    "    # our function.\n",
    "    zs = []\n",
    "    cs = []\n",
    "    for ycoord in y:\n",
    "        for xcoord in x:\n",
    "            zs.append(complex(xcoord, ycoord))\n",
    "            cs.append(complex(c_real, c_imag))\n",
    "    \n",
    "    print(\"Lenght of x:\", len(x))\n",
    "    print(\"Total elements:\", len(zs))\n",
    "    start_time = time.time()\n",
    "    output = calculate_z_serial_purepython(max_iterations, zs, cs)\n",
    "    end_time = time.time()\n",
    "    secs = end_time - start_time\n",
    "    print(calculate_z_serial_purepython.__name__ + \" took\", secs, \"seconds\")\n",
    "    \n",
    "    # This sum is expected for a 1000^2 grid with 300 iterations.\n",
    "    # It catches minor errors we might introduce when we're\n",
    "    # working on a fixed set of inputs.\n",
    "    assert sum(output) == 33219980\n",
    "    if return_output:\n",
    "        return output"
   ]
  },
  {
   "cell_type": "markdown",
   "id": "74c083ab",
   "metadata": {},
   "source": [
    "Next, the `calculate_z_serial_purepython` function is defined. Also, an `output` list is defined at the start that has the same length as the input `zs` and `cs` lists."
   ]
  },
  {
   "cell_type": "code",
   "execution_count": 3,
   "id": "f55cbb03",
   "metadata": {},
   "outputs": [],
   "source": [
    "# Example 2-3. Our CPU-bound calculation function\n",
    "\n",
    "def calculate_z_serial_purepython(maxiter, zs, cs):\n",
    "    '''Calculate output list using Julia update rule'''\n",
    "    output = [0] * len(zs)\n",
    "    for i in range(len(zs)):\n",
    "        n = 0\n",
    "        z = zs[i]\n",
    "        c = cs[i]\n",
    "        while abs(z) < 2 and n < maxiter:\n",
    "            z = z * z + c\n",
    "            n += 1\n",
    "        output[i] = n\n",
    "    return output"
   ]
  },
  {
   "cell_type": "markdown",
   "id": "407a63e0",
   "metadata": {},
   "source": [
    "Now a calculation routine is called. By wrapping it in a `__main__` check, the module can be safely imported without starting the calculations for some of the profiling methods. Here the method to plot the output is not used."
   ]
  },
  {
   "cell_type": "code",
   "execution_count": 4,
   "id": "61cb1e21",
   "metadata": {},
   "outputs": [
    {
     "name": "stdout",
     "output_type": "stream",
     "text": [
      "Lenght of x: 1000\n",
      "Total elements: 1000000\n",
      "calculate_z_serial_purepython took 4.338740110397339 seconds\n"
     ]
    }
   ],
   "source": [
    "# Example 2-4. main for our code\n",
    "if __name__ == \"__main__\":\n",
    "    # Calculate the Julia set using a pure Python solution with\n",
    "    # reasonable defaults for a laptop\n",
    "    calc_pure_python(desired_width=1000, max_iterations=300)"
   ]
  },
  {
   "cell_type": "markdown",
   "id": "e1d55349",
   "metadata": {},
   "source": [
    "Now, the representation for false gray and pure grayscale will be added. \n",
    "\n",
    "First, the module `PIL` will be assed to support graphical output."
   ]
  },
  {
   "cell_type": "code",
   "execution_count": 5,
   "id": "2c867c55",
   "metadata": {},
   "outputs": [
    {
     "name": "stdout",
     "output_type": "stream",
     "text": [
      "Requirement already satisfied: Pillow in /home/juli/anaconda3/lib/python3.11/site-packages (9.4.0)\n",
      "Note: you may need to restart the kernel to use updated packages.\n"
     ]
    }
   ],
   "source": [
    "%pip install Pillow\n",
    "\n",
    "from PIL import Image"
   ]
  },
  {
   "cell_type": "markdown",
   "id": "f137c025",
   "metadata": {},
   "source": [
    "And the `array` module is used for its efficiency in handling large sequences of numbers. "
   ]
  },
  {
   "cell_type": "code",
   "execution_count": 6,
   "id": "a2fd3664",
   "metadata": {},
   "outputs": [],
   "source": [
    "import array"
   ]
  },
  {
   "cell_type": "markdown",
   "id": "f04f1b08",
   "metadata": {},
   "source": [
    "**False Grayscale Plot**\n",
    "\n",
    "The following fuction creates a false grayscale image representation of the Julia set. The false grayscale refers to a grayscale image where the colors are derived from the number of iterations needed to determine if a point escapes to infinity according to the Julia set rules. In a true grayscale image, each pixel's color is a shade of gray, varying from black at the weakest intensity to white at the strongest intensity. However, in false grayscale, the intensity is often translated into a colorized scale (not necessarily shades of gray) to highlight differences between areas with different escape times."
   ]
  },
  {
   "cell_type": "code",
   "execution_count": 7,
   "id": "8682e4bf",
   "metadata": {},
   "outputs": [],
   "source": [
    "def false_grayscale(desired_width, max_iterations):\n",
    "    # Calculate the Julia set\n",
    "    output = calc_pure_python(desired_width, max_iterations, return_output=True)\n",
    "    \n",
    "    # Find the maximum iteration value for normalization\n",
    "    max_value = float(max(output))\n",
    "    \n",
    "    # Normalize iteration counts to the 0-255 grayscale range.\n",
    "    output_raw_limited = [int(float(o) / max_value * 255) for o in output]\n",
    "    \n",
    "    # Convert grayscale values to equivalent RGB values.\n",
    "    # Since the image is grayscale, R, G, and B components are the same.\n",
    "    # Each value in the generator will be a 32-bit integer where the least significant\n",
    "    # 24 bits are R, G, and B values (all three are the same for grayscale),\n",
    "    # multiplied by 16 to fill the 32 bits (since we're ignoring the alpha channel).\n",
    "    output_rgb = ((o + (256 * o) + (256 ** 2) * o) * 16 for o in output_raw_limited)\n",
    "    \n",
    "    # Convert the RGB generator to an array of unsigned integers ('I').\n",
    "    output_rgb = array.array('I', output_rgb)\n",
    "    \n",
    "    # Create a new RGB image with the desired dimensions.\n",
    "    img = Image.new(\"RGB\", (desired_width, desired_width))\n",
    "    img.frombytes(output_rgb.tobytes(), \"raw\", \"RGBX\", 0, -1)\n",
    "    img.show()"
   ]
  },
  {
   "cell_type": "code",
   "execution_count": 8,
   "id": "b06e6ca2",
   "metadata": {},
   "outputs": [
    {
     "name": "stdout",
     "output_type": "stream",
     "text": [
      "Lenght of x: 1000\n",
      "Total elements: 1000000\n",
      "calculate_z_serial_purepython took 4.382652282714844 seconds\n"
     ]
    }
   ],
   "source": [
    "false_grayscale(1000, 300)"
   ]
  },
  {
   "cell_type": "markdown",
   "id": "035d576c",
   "metadata": {},
   "source": [
    "**Pure Grayscale Plot**\n",
    "\n",
    "In a pure grayscale image, every pixel is represented by a single intensity value from 0 (black) to 255 (white). The number of iterations required for each point in the Julia set calculation directly maps to a grayscale intensity. Points that take more iterations to reach the escape condition are assigned a higher value (lighter), and those that escape quickly are assigned a lower value (darker)."
   ]
  },
  {
   "cell_type": "code",
   "execution_count": 9,
   "id": "a0d93256",
   "metadata": {},
   "outputs": [],
   "source": [
    "def pure_grayscale(desired_width, max_iterations):\n",
    "    output = calc_pure_python(desired_width, max_iterations, return_output=True)\n",
    "    \n",
    "    # Maximum iteration count as the scale factor for normalization.\n",
    "    scale_factor = float(max(output))\n",
    "    \n",
    "    # Normalize the iteration counts to the 0-255 grayscale range.\n",
    "    # Values are scaled linearly based on the maximum number of iterations.\n",
    "    # The result is a pure grayscale value, meaning each pixel's color intensity\n",
    "    # directly reflects the number of iterations.\n",
    "    scaled = [int(o / scale_factor * 255) for o in output]\n",
    "    \n",
    "    # Convert the scaled iteration counts into an array of unsigned bytes ('B').\n",
    "    # Each byte represents a pixel's grayscale color value in the image.\n",
    "    output = array.array('B', scaled)\n",
    "    \n",
    "    # Create a new grayscale image.\n",
    "    img = Image.new(\"L\", (desired_width, desired_width))\n",
    "    img.frombytes(output.tobytes(), \"raw\", \"L\", 0, -1)\n",
    "    img.show()"
   ]
  },
  {
   "cell_type": "code",
   "execution_count": 10,
   "id": "2f14169d",
   "metadata": {},
   "outputs": [
    {
     "name": "stdout",
     "output_type": "stream",
     "text": [
      "Lenght of x: 1000\n",
      "Total elements: 1000000\n",
      "calculate_z_serial_purepython took 4.300005197525024 seconds\n"
     ]
    }
   ],
   "source": [
    "pure_grayscale(desired_width=1000, max_iterations=300)   "
   ]
  },
  {
   "cell_type": "markdown",
   "id": "4ce9fb4e",
   "metadata": {},
   "source": [
    "## Step 2\n",
    "\n",
    "Defining a new function `timefn` which takes a function as an argument: the inner function, `measure_time`,  takes `*args` (a variable number of positional arguments) and `*kwargs` (a variable number of key/value arguments) and passes them through to `fn` for exection."
   ]
  },
  {
   "cell_type": "code",
   "execution_count": 11,
   "id": "1a906edb",
   "metadata": {},
   "outputs": [],
   "source": [
    "from functools import wraps\n",
    "\n",
    "def timefn(fn):\n",
    "    @wraps(fn)\n",
    "    def measure_time(*args, **kwargs):\n",
    "        start = time.time()\n",
    "        result = fn(*args, **kwargs)\n",
    "        end = time.time()\n",
    "        print(\"@timefn:\" + fn.__name__ + \" took \" + str(end - start) + \" seconds\")\n",
    "        return result\n",
    "    return measure_time"
   ]
  },
  {
   "cell_type": "markdown",
   "id": "6b7d42d1",
   "metadata": {},
   "source": [
    "Decorating `calculate_z_serial_purepython` with `@timefn`to profile it."
   ]
  },
  {
   "cell_type": "code",
   "execution_count": 12,
   "id": "8a49cfb4",
   "metadata": {},
   "outputs": [],
   "source": [
    "@timefn\n",
    "def calculate_z_serial_purepython(maxiter, zs, cs):\n",
    "    '''Calculate output list using Julia update rule'''\n",
    "    output = [0] * len(zs)\n",
    "    for i in range(len(zs)):\n",
    "        n = 0\n",
    "        z = zs[i]\n",
    "        c = cs[i]\n",
    "        while abs(z) < 2 and n < maxiter:\n",
    "            z = z * z + c\n",
    "            n += 1\n",
    "        output[i] = n\n",
    "    return output"
   ]
  },
  {
   "cell_type": "markdown",
   "id": "832948fd",
   "metadata": {},
   "source": [
    "Testing the new version:"
   ]
  },
  {
   "cell_type": "code",
   "execution_count": 13,
   "id": "c6c89b4b",
   "metadata": {},
   "outputs": [
    {
     "name": "stdout",
     "output_type": "stream",
     "text": [
      "Lenght of x: 1000\n",
      "Total elements: 1000000\n",
      "@timefn:calculate_z_serial_purepython took 4.299396514892578 seconds\n",
      "calculate_z_serial_purepython took 4.299456834793091 seconds\n"
     ]
    }
   ],
   "source": [
    "if __name__ == \"__main__\":\n",
    "    # Calculate the Julia set using a pure Python solution with\n",
    "    # reasonable defaults for a laptop\n",
    "    calc_pure_python(desired_width=1000, max_iterations=300)"
   ]
  },
  {
   "cell_type": "markdown",
   "id": "daf2502d",
   "metadata": {},
   "source": [
    "## Step 3\n",
    "\n",
    "Using the `timeit` module to get a coarse measurement of the execution speed of the CPU-bound function. Running 10 loops with 5 repetitions. First executing the measurement on the command line with `python -m timeit -r 5 -n 10 -s \"from benchmarking_and_profiling import calc_pure_python\" \"calc_pure_python(desired_width=1000, max_iterations=300)\"` looks like this:\n",
    "\n",
    "<img src=\"timeit.png\">\n",
    "\n",
    "Now, making the measurement in this notebook:"
   ]
  },
  {
   "cell_type": "code",
   "execution_count": 14,
   "id": "92c0a04d",
   "metadata": {},
   "outputs": [
    {
     "name": "stdout",
     "output_type": "stream",
     "text": [
      "Lenght of x: 1000\n",
      "Total elements: 1000000\n",
      "@timefn:calculate_z_serial_purepython took 4.134695291519165 seconds\n",
      "calculate_z_serial_purepython took 4.134755373001099 seconds\n",
      "Lenght of x: 1000\n",
      "Total elements: 1000000\n",
      "@timefn:calculate_z_serial_purepython took 4.087386608123779 seconds\n",
      "calculate_z_serial_purepython took 4.087445259094238 seconds\n",
      "Lenght of x: 1000\n",
      "Total elements: 1000000\n",
      "@timefn:calculate_z_serial_purepython took 4.086347818374634 seconds\n",
      "calculate_z_serial_purepython took 4.0863938331604 seconds\n",
      "Lenght of x: 1000\n",
      "Total elements: 1000000\n",
      "@timefn:calculate_z_serial_purepython took 4.340664625167847 seconds\n",
      "calculate_z_serial_purepython took 4.340715646743774 seconds\n",
      "Lenght of x: 1000\n",
      "Total elements: 1000000\n",
      "@timefn:calculate_z_serial_purepython took 4.124864101409912 seconds\n",
      "calculate_z_serial_purepython took 4.124917507171631 seconds\n",
      "Lenght of x: 1000\n",
      "Total elements: 1000000\n",
      "@timefn:calculate_z_serial_purepython took 4.111462116241455 seconds\n",
      "calculate_z_serial_purepython took 4.111514091491699 seconds\n",
      "Lenght of x: 1000\n",
      "Total elements: 1000000\n",
      "@timefn:calculate_z_serial_purepython took 4.1085524559021 seconds\n",
      "calculate_z_serial_purepython took 4.108611822128296 seconds\n",
      "Lenght of x: 1000\n",
      "Total elements: 1000000\n",
      "@timefn:calculate_z_serial_purepython took 4.100425720214844 seconds\n",
      "calculate_z_serial_purepython took 4.100482702255249 seconds\n",
      "Lenght of x: 1000\n",
      "Total elements: 1000000\n",
      "@timefn:calculate_z_serial_purepython took 4.1128106117248535 seconds\n",
      "calculate_z_serial_purepython took 4.112868070602417 seconds\n",
      "Lenght of x: 1000\n",
      "Total elements: 1000000\n",
      "@timefn:calculate_z_serial_purepython took 4.241654634475708 seconds\n",
      "calculate_z_serial_purepython took 4.2417075634002686 seconds\n",
      "Lenght of x: 1000\n",
      "Total elements: 1000000\n",
      "@timefn:calculate_z_serial_purepython took 4.1460652351379395 seconds\n",
      "calculate_z_serial_purepython took 4.14612078666687 seconds\n",
      "Lenght of x: 1000\n",
      "Total elements: 1000000\n",
      "@timefn:calculate_z_serial_purepython took 4.142329931259155 seconds\n",
      "calculate_z_serial_purepython took 4.142382383346558 seconds\n",
      "Lenght of x: 1000\n",
      "Total elements: 1000000\n",
      "@timefn:calculate_z_serial_purepython took 4.114392280578613 seconds\n",
      "calculate_z_serial_purepython took 4.114441394805908 seconds\n",
      "Lenght of x: 1000\n",
      "Total elements: 1000000\n",
      "@timefn:calculate_z_serial_purepython took 4.105311393737793 seconds\n",
      "calculate_z_serial_purepython took 4.105363130569458 seconds\n",
      "Lenght of x: 1000\n",
      "Total elements: 1000000\n",
      "@timefn:calculate_z_serial_purepython took 4.104679107666016 seconds\n",
      "calculate_z_serial_purepython took 4.104734897613525 seconds\n",
      "Lenght of x: 1000\n",
      "Total elements: 1000000\n",
      "@timefn:calculate_z_serial_purepython took 4.0966956615448 seconds\n",
      "calculate_z_serial_purepython took 4.096747875213623 seconds\n",
      "Lenght of x: 1000\n",
      "Total elements: 1000000\n",
      "@timefn:calculate_z_serial_purepython took 4.13636326789856 seconds\n",
      "calculate_z_serial_purepython took 4.1364171504974365 seconds\n",
      "Lenght of x: 1000\n",
      "Total elements: 1000000\n",
      "@timefn:calculate_z_serial_purepython took 4.161223888397217 seconds\n",
      "calculate_z_serial_purepython took 4.161277770996094 seconds\n",
      "Lenght of x: 1000\n",
      "Total elements: 1000000\n",
      "@timefn:calculate_z_serial_purepython took 4.13831090927124 seconds\n",
      "calculate_z_serial_purepython took 4.138364791870117 seconds\n",
      "Lenght of x: 1000\n",
      "Total elements: 1000000\n",
      "@timefn:calculate_z_serial_purepython took 4.1387553215026855 seconds\n",
      "calculate_z_serial_purepython took 4.1388099193573 seconds\n",
      "Lenght of x: 1000\n",
      "Total elements: 1000000\n",
      "@timefn:calculate_z_serial_purepython took 4.174181222915649 seconds\n",
      "calculate_z_serial_purepython took 4.174232244491577 seconds\n",
      "Lenght of x: 1000\n",
      "Total elements: 1000000\n",
      "@timefn:calculate_z_serial_purepython took 4.171183824539185 seconds\n",
      "calculate_z_serial_purepython took 4.171238660812378 seconds\n",
      "Lenght of x: 1000\n",
      "Total elements: 1000000\n",
      "@timefn:calculate_z_serial_purepython took 4.17117977142334 seconds\n",
      "calculate_z_serial_purepython took 4.171234130859375 seconds\n",
      "Lenght of x: 1000\n",
      "Total elements: 1000000\n",
      "@timefn:calculate_z_serial_purepython took 4.191279888153076 seconds\n",
      "calculate_z_serial_purepython took 4.19133448600769 seconds\n",
      "Lenght of x: 1000\n",
      "Total elements: 1000000\n",
      "@timefn:calculate_z_serial_purepython took 4.171722650527954 seconds\n",
      "calculate_z_serial_purepython took 4.17177677154541 seconds\n",
      "Lenght of x: 1000\n",
      "Total elements: 1000000\n",
      "@timefn:calculate_z_serial_purepython took 4.197389364242554 seconds\n",
      "calculate_z_serial_purepython took 4.1974403858184814 seconds\n",
      "Lenght of x: 1000\n",
      "Total elements: 1000000\n",
      "@timefn:calculate_z_serial_purepython took 4.249821662902832 seconds\n",
      "calculate_z_serial_purepython took 4.2498767375946045 seconds\n",
      "Lenght of x: 1000\n",
      "Total elements: 1000000\n",
      "@timefn:calculate_z_serial_purepython took 4.210687637329102 seconds\n",
      "calculate_z_serial_purepython took 4.210737228393555 seconds\n",
      "Lenght of x: 1000\n",
      "Total elements: 1000000\n",
      "@timefn:calculate_z_serial_purepython took 4.215200424194336 seconds\n",
      "calculate_z_serial_purepython took 4.215258836746216 seconds\n",
      "Lenght of x: 1000\n",
      "Total elements: 1000000\n",
      "@timefn:calculate_z_serial_purepython took 4.272819757461548 seconds\n",
      "calculate_z_serial_purepython took 4.272867679595947 seconds\n",
      "Lenght of x: 1000\n",
      "Total elements: 1000000\n",
      "@timefn:calculate_z_serial_purepython took 4.216712713241577 seconds\n",
      "calculate_z_serial_purepython took 4.216766357421875 seconds\n",
      "Lenght of x: 1000\n",
      "Total elements: 1000000\n",
      "@timefn:calculate_z_serial_purepython took 4.276956081390381 seconds\n",
      "calculate_z_serial_purepython took 4.2770092487335205 seconds\n",
      "Lenght of x: 1000\n",
      "Total elements: 1000000\n",
      "@timefn:calculate_z_serial_purepython took 4.259660482406616 seconds\n",
      "calculate_z_serial_purepython took 4.259714365005493 seconds\n",
      "Lenght of x: 1000\n",
      "Total elements: 1000000\n",
      "@timefn:calculate_z_serial_purepython took 4.216445684432983 seconds\n",
      "calculate_z_serial_purepython took 4.216499328613281 seconds\n",
      "Lenght of x: 1000\n",
      "Total elements: 1000000\n",
      "@timefn:calculate_z_serial_purepython took 4.201789140701294 seconds\n",
      "calculate_z_serial_purepython took 4.201844215393066 seconds\n",
      "Lenght of x: 1000\n",
      "Total elements: 1000000\n",
      "@timefn:calculate_z_serial_purepython took 4.275045394897461 seconds\n",
      "calculate_z_serial_purepython took 4.275100231170654 seconds\n",
      "Lenght of x: 1000\n",
      "Total elements: 1000000\n",
      "@timefn:calculate_z_serial_purepython took 4.320917367935181 seconds\n",
      "calculate_z_serial_purepython took 4.320972681045532 seconds\n",
      "Lenght of x: 1000\n",
      "Total elements: 1000000\n",
      "@timefn:calculate_z_serial_purepython took 4.338149070739746 seconds\n",
      "calculate_z_serial_purepython took 4.338203191757202 seconds\n",
      "Lenght of x: 1000\n",
      "Total elements: 1000000\n",
      "@timefn:calculate_z_serial_purepython took 4.22529411315918 seconds\n",
      "calculate_z_serial_purepython took 4.2253477573394775 seconds\n",
      "Lenght of x: 1000\n",
      "Total elements: 1000000\n",
      "@timefn:calculate_z_serial_purepython took 4.228442907333374 seconds\n",
      "calculate_z_serial_purepython took 4.22849702835083 seconds\n",
      "Lenght of x: 1000\n",
      "Total elements: 1000000\n",
      "@timefn:calculate_z_serial_purepython took 4.247704029083252 seconds\n",
      "calculate_z_serial_purepython took 4.247759580612183 seconds\n",
      "Lenght of x: 1000\n",
      "Total elements: 1000000\n",
      "@timefn:calculate_z_serial_purepython took 4.262973785400391 seconds\n",
      "calculate_z_serial_purepython took 4.263026475906372 seconds\n",
      "Lenght of x: 1000\n",
      "Total elements: 1000000\n",
      "@timefn:calculate_z_serial_purepython took 4.2504236698150635 seconds\n",
      "calculate_z_serial_purepython took 4.250477313995361 seconds\n",
      "Lenght of x: 1000\n",
      "Total elements: 1000000\n",
      "@timefn:calculate_z_serial_purepython took 4.2612199783325195 seconds\n",
      "calculate_z_serial_purepython took 4.261270999908447 seconds\n",
      "Lenght of x: 1000\n",
      "Total elements: 1000000\n",
      "@timefn:calculate_z_serial_purepython took 4.299627065658569 seconds\n",
      "calculate_z_serial_purepython took 4.299682378768921 seconds\n",
      "Lenght of x: 1000\n",
      "Total elements: 1000000\n",
      "@timefn:calculate_z_serial_purepython took 4.2839601039886475 seconds\n",
      "calculate_z_serial_purepython took 4.284013748168945 seconds\n",
      "Lenght of x: 1000\n",
      "Total elements: 1000000\n",
      "@timefn:calculate_z_serial_purepython took 4.271484851837158 seconds\n",
      "calculate_z_serial_purepython took 4.2715394496917725 seconds\n",
      "Lenght of x: 1000\n",
      "Total elements: 1000000\n",
      "@timefn:calculate_z_serial_purepython took 4.251730442047119 seconds\n",
      "calculate_z_serial_purepython took 4.251781463623047 seconds\n"
     ]
    },
    {
     "name": "stdout",
     "output_type": "stream",
     "text": [
      "Lenght of x: 1000\n",
      "Total elements: 1000000\n",
      "@timefn:calculate_z_serial_purepython took 4.262952089309692 seconds\n",
      "calculate_z_serial_purepython took 4.2630088329315186 seconds\n",
      "Lenght of x: 1000\n",
      "Total elements: 1000000\n",
      "@timefn:calculate_z_serial_purepython took 4.2769012451171875 seconds\n",
      "calculate_z_serial_purepython took 4.276954889297485 seconds\n",
      "4.43 s ± 58 ms per loop (mean ± std. dev. of 5 runs, 10 loops each)\n"
     ]
    }
   ],
   "source": [
    "%timeit -r 5 -n 10 calc_pure_python(desired_width=1000, max_iterations=300)"
   ]
  },
  {
   "cell_type": "markdown",
   "id": "1fcd97f7",
   "metadata": {},
   "source": [
    "## Step 4\n",
    "\n",
    "Using the `cProfile` module to profile the code. I will sort the results by the time spent inside each function. This will give a view into the slowest parts. First, showing the results in command line using:\n",
    "\n",
    "`$python -m cProfile -s cumulative benchmarking_and_profiling.py`\n",
    "\n",
    "<img src=\"cProfile.png\">\n",
    "\n",
    "The profiling indicates a total of 36257870 calls in 11.61 seconds. By the image, we can see that the entry point to the code takes a total of 11 seconds. Inside `calc_pure_python`, the call `calculate_z_serial_purepython` consumes 10.90 seconds, and both functions are only called once.\n",
    "\n",
    "Inside `calculate_z_serial_purepython`, the time spent on lines of code is 8.21 seconds. This function makes 34219980 calls to abs, which take a total of 2.69 seconds, along with some other calls that do not cost much time.\n",
    "\n",
    "Now, making the measurement in this notebook:"
   ]
  },
  {
   "cell_type": "code",
   "execution_count": 15,
   "id": "e02219f8",
   "metadata": {},
   "outputs": [
    {
     "name": "stdout",
     "output_type": "stream",
     "text": [
      "Lenght of x: 1000\n",
      "Total elements: 1000000\n",
      "@timefn:calculate_z_serial_purepython took 10.472025394439697 seconds\n",
      "calculate_z_serial_purepython took 10.472108125686646 seconds\n",
      "         36222178 function calls in 11.120 seconds\n",
      "\n",
      "   Ordered by: cumulative time\n",
      "\n",
      "   ncalls  tottime  percall  cumtime  percall filename:lineno(function)\n",
      "        2    0.000    0.000   11.141    5.570 /home/juli/anaconda3/lib/python3.11/site-packages/IPython/core/interactiveshell.py:3490(run_code)\n",
      "        2    0.000    0.000   11.141    5.570 {built-in method builtins.exec}\n",
      "        1    0.537    0.537   11.120   11.120 /tmp/ipykernel_80318/486211223.py:4(calc_pure_python)\n",
      "        1    0.000    0.000   10.472   10.472 /tmp/ipykernel_80318/671623914.py:4(measure_time)\n",
      "        1    7.866    7.866   10.472   10.472 /tmp/ipykernel_80318/2689343387.py:1(calculate_z_serial_purepython)\n",
      " 34219980    2.606    0.000    2.606    0.000 {built-in method builtins.abs}\n",
      "  2002000    0.105    0.000    0.105    0.000 {method 'append' of 'list' objects}\n",
      "        1    0.005    0.005    0.005    0.005 {built-in method builtins.sum}\n",
      "        4    0.000    0.000    0.000    0.000 {built-in method builtins.print}\n",
      "       16    0.000    0.000    0.000    0.000 /home/juli/anaconda3/lib/python3.11/site-packages/ipykernel/iostream.py:610(write)\n",
      "       16    0.000    0.000    0.000    0.000 /home/juli/anaconda3/lib/python3.11/site-packages/ipykernel/iostream.py:532(_schedule_flush)\n",
      "        2    0.000    0.000    0.000    0.000 /home/juli/anaconda3/lib/python3.11/site-packages/ipykernel/iostream.py:243(schedule)\n",
      "        2    0.000    0.000    0.000    0.000 /home/juli/anaconda3/lib/python3.11/codeop.py:117(__call__)\n",
      "        2    0.000    0.000    0.000    0.000 {built-in method builtins.compile}\n",
      "        2    0.000    0.000    0.000    0.000 /home/juli/anaconda3/lib/python3.11/site-packages/zmq/sugar/socket.py:543(send)\n",
      "        2    0.000    0.000    0.000    0.000 /home/juli/anaconda3/lib/python3.11/threading.py:1185(is_alive)\n",
      "       16    0.000    0.000    0.000    0.000 /home/juli/anaconda3/lib/python3.11/site-packages/ipykernel/iostream.py:505(_is_master_process)\n",
      "        2    0.000    0.000    0.000    0.000 /home/juli/anaconda3/lib/python3.11/contextlib.py:287(helper)\n",
      "        4    0.000    0.000    0.000    0.000 {built-in method builtins.next}\n",
      "        2    0.000    0.000    0.000    0.000 /home/juli/anaconda3/lib/python3.11/contextlib.py:132(__enter__)\n",
      "        2    0.000    0.000    0.000    0.000 /home/juli/anaconda3/lib/python3.11/site-packages/traitlets/traitlets.py:689(__get__)\n",
      "        2    0.000    0.000    0.000    0.000 /home/juli/anaconda3/lib/python3.11/contextlib.py:141(__exit__)\n",
      "        2    0.000    0.000    0.000    0.000 /home/juli/anaconda3/lib/python3.11/contextlib.py:104(__init__)\n",
      "        2    0.000    0.000    0.000    0.000 /home/juli/anaconda3/lib/python3.11/threading.py:1118(_wait_for_tstate_lock)\n",
      "        1    0.000    0.000    0.000    0.000 /tmp/ipykernel_80318/3638130967.py:1(<module>)\n",
      "       16    0.000    0.000    0.000    0.000 {built-in method posix.getpid}\n",
      "        4    0.000    0.000    0.000    0.000 /home/juli/anaconda3/lib/python3.11/site-packages/IPython/core/compilerop.py:180(extra_flags)\n",
      "       20    0.000    0.000    0.000    0.000 {built-in method builtins.len}\n",
      "        2    0.000    0.000    0.000    0.000 /home/juli/anaconda3/lib/python3.11/site-packages/ipykernel/iostream.py:127(_event_pipe)\n",
      "       16    0.000    0.000    0.000    0.000 {method 'write' of '_io.StringIO' objects}\n",
      "        2    0.000    0.000    0.000    0.000 {method 'acquire' of '_thread.lock' objects}\n",
      "        4    0.000    0.000    0.000    0.000 {built-in method builtins.getattr}\n",
      "        2    0.000    0.000    0.000    0.000 /home/juli/anaconda3/lib/python3.11/site-packages/IPython/core/interactiveshell.py:3442(compare)\n",
      "       16    0.000    0.000    0.000    0.000 {built-in method builtins.isinstance}\n",
      "       16    0.000    0.000    0.000    0.000 {method '__exit__' of '_thread.RLock' objects}\n",
      "        2    0.000    0.000    0.000    0.000 /home/juli/anaconda3/lib/python3.11/site-packages/traitlets/traitlets.py:651(get)\n",
      "        2    0.000    0.000    0.000    0.000 /home/juli/anaconda3/lib/python3.11/site-packages/IPython/core/interactiveshell.py:1231(user_global_ns)\n",
      "        4    0.000    0.000    0.000    0.000 {built-in method time.time}\n",
      "        2    0.000    0.000    0.000    0.000 /home/juli/anaconda3/lib/python3.11/threading.py:568(is_set)\n",
      "        1    0.000    0.000    0.000    0.000 {method 'disable' of '_lsprof.Profiler' objects}\n",
      "        2    0.000    0.000    0.000    0.000 {method 'append' of 'collections.deque' objects}\n",
      "\n",
      "\n"
     ]
    },
    {
     "data": {
      "text/plain": [
       "<pstats.Stats at 0x7efcc5c5b510>"
      ]
     },
     "execution_count": 15,
     "metadata": {},
     "output_type": "execute_result"
    }
   ],
   "source": [
    "import cProfile\n",
    "import pstats\n",
    "\n",
    "# Creating a Profile object\n",
    "profiler = cProfile.Profile()\n",
    "\n",
    "# Profiling the calc_pure_python function\n",
    "\n",
    "profiler.enable()  # Start collecting profiling data\n",
    "calc_pure_python(desired_width=1000, max_iterations=300)\n",
    "profiler.disable() # Stop collecting profiling data\n",
    "\n",
    "# Create a Stats object from the data and sort it by cumulative\n",
    "stats = pstats.Stats(profiler).sort_stats('cumulative')\n",
    "stats.print_stats()"
   ]
  },
  {
   "cell_type": "markdown",
   "id": "04b92d3e",
   "metadata": {},
   "source": [
    "In this case, the results are just a little bit different. At the start, the `run_code` method is the one used to execute code in the Jupyter environment and is called 2 times because of the execution of the code blocks in the notebook cells.\n",
    "\n",
    "The rest, is somewhat similar.\n",
    "\n",
    "The following is the image I'm making reference from my computer:\n",
    "\n",
    "<img src=\"cProfileJupyter.png\">\n",
    "\n",
    "## Step 5\n",
    "\n",
    "Using `snakeviz` to get a high-level understanding of the cProfile statistics file. I will analyze the output and make a syntesis of the findings.\n",
    "\n",
    "To run `snakeviz` correctly I used the following commands:\n",
    "\n",
    "`$ python -m cProfile -o benchmarking_and_profiling.cprof benchmarking_and_profiling.py`              \n",
    " \n",
    "`$ snakeviz benchmarking_and_profiling.cprof`\n",
    "\n",
    "And this was the result:\n",
    "\n",
    "<img src=\"snakeviz.png\">\n",
    "\n",
    "In this image, each block represents a function call, and the size of the block is proportional to the time spent in that function, including the cumulative time.\n",
    "\n",
    "The root block represents the total time taken by the script, which is around 11.5 seconds. The `run_code` function within IPython's core `interactiveshell.py` module is at the top of the call stack, indicating that the profiled code was run within an IPython environment. Below, there is the `<module>` function from `benchmarking_and_profiling.py` with a cumulative time of 11.55 seconds. This indicates that nearly all the time taken for the script execution is within this module. Within the `benchmarking_and_profiling.py` module, the calc_pure_python function was called and has a cumulative time of 11.2 seconds, indicating that it's the main driver of the computation time.\n",
    "\n",
    "The function `calculate_z_serial_purepython` consumes most of the execution time, with a total time of 10.6 seconds. This suggests that the function is highly CPU-intensive since is where the core computation logic for generating the Julia set is located.\n",
    "\n",
    "Also, it can be seen on the lilac block of the end the `abs` function, that took a total of 2.7 seconds.\n",
    "\n",
    "Now, let's use `SnakeViz` in Jupyter notebook to compare results with the results from my computer:"
   ]
  },
  {
   "cell_type": "code",
   "execution_count": 16,
   "id": "45204e81",
   "metadata": {},
   "outputs": [
    {
     "name": "stdout",
     "output_type": "stream",
     "text": [
      "Requirement already satisfied: snakeviz in /home/juli/anaconda3/lib/python3.11/site-packages (2.2.0)\n",
      "Requirement already satisfied: tornado>=2.0 in /home/juli/anaconda3/lib/python3.11/site-packages (from snakeviz) (6.3.2)\n",
      "Note: you may need to restart the kernel to use updated packages.\n",
      "Lenght of x: 1000\n",
      "Total elements: 1000000\n",
      "@timefn:calculate_z_serial_purepython took 10.355187892913818 seconds\n",
      "calculate_z_serial_purepython took 10.35526418685913 seconds\n",
      " \n",
      "*** Profile stats marshalled to file '/tmp/tmptuprqvu9'.\n",
      "Embedding SnakeViz in this document...\n",
      "<function display at 0x7efcf474b100>\n"
     ]
    },
    {
     "data": {
      "text/html": [
       "\n",
       "<iframe id='snakeviz-f78b02c2-e67c-11ee-a2f5-7c50797c701d' frameborder=0 seamless width='100%' height='1000'></iframe>\n",
       "<script>document.getElementById(\"snakeviz-f78b02c2-e67c-11ee-a2f5-7c50797c701d\").setAttribute(\"src\", \"http://\" + document.location.hostname + \":8080/snakeviz/%2Ftmp%2Ftmptuprqvu9\")</script>\n"
      ],
      "text/plain": [
       "<IPython.core.display.HTML object>"
      ]
     },
     "metadata": {},
     "output_type": "display_data"
    }
   ],
   "source": [
    "%pip install snakeviz\n",
    "%load_ext snakeviz\n",
    "%snakeviz calc_pure_python(desired_width=1000, max_iterations=300)"
   ]
  },
  {
   "cell_type": "markdown",
   "id": "62294036",
   "metadata": {},
   "source": [
    "## Step 6\n",
    "\n",
    "Using the `line_profiler` and `kernprof` file to profile line-by-line the function `calculate_z_serial_purepython`.\n",
    "\n",
    "To run it correctly I used:\n",
    "\n",
    "`$ kernprof -l -v benchmarking_and_profiling.py`\n",
    "\n",
    "<img src='kernprof.png'>\n",
    "\n",
    "Analyzing this results, it can be seen that this function had a total run time of 26.08 seconds. Line 76, which contains the while loop was hitted 34219980 times, which consumes 46% of the total time within the function, this makes sense because is where the core computation for the set occurs. The timeper hit is small for all lines, but because the function is called many times, the cumulative time then becomes significant.\n",
    "\n",
    "From this, we can conclude that teh function is called many times, which makes that even operations that normally take small amount of time per call can add up to a significant portion of the total run time.\n",
    "\n",
    "Now, run the `line_profiler` and `kernprof` in this notebook to compare the results:"
   ]
  },
  {
   "cell_type": "code",
   "execution_count": 17,
   "id": "baf61892",
   "metadata": {},
   "outputs": [
    {
     "name": "stdout",
     "output_type": "stream",
     "text": [
      "Requirement already satisfied: line_profiler in /home/juli/anaconda3/lib/python3.11/site-packages (4.1.2)\n",
      "Note: you may need to restart the kernel to use updated packages.\n"
     ]
    },
    {
     "name": "stderr",
     "output_type": "stream",
     "text": [
      "/home/juli/anaconda3/lib/python3.11/site-packages/line_profiler/ipython_extension.py:97: UserWarning: Adding a function with a __wrapped__ attribute. You may want to profile the wrapped function by adding calculate_z_serial_purepython.__wrapped__ instead.\n",
      "  profile = LineProfiler(*funcs)\n"
     ]
    },
    {
     "name": "stdout",
     "output_type": "stream",
     "text": [
      "Lenght of x: 1000\n",
      "Total elements: 1000000\n",
      "@timefn:calculate_z_serial_purepython took 14.04855489730835 seconds\n",
      "calculate_z_serial_purepython took 14.04864501953125 seconds\n"
     ]
    }
   ],
   "source": [
    "%pip install line_profiler\n",
    "%load_ext line_profiler\n",
    "%lprun -f calculate_z_serial_purepython calc_pure_python(desired_width=1000, max_iterations=300)"
   ]
  },
  {
   "cell_type": "markdown",
   "id": "64e94249",
   "metadata": {},
   "source": [
    "## Step 7\n",
    "\n",
    "Using `memory_profiler` to diagnose memory usage.\n",
    "\n",
    "To run it correctly I used:\n",
    "\n",
    "`$ python -m memory_profiler benchmarking_and_profiling.py`\n",
    "\n",
    "And this are my results:\n",
    "<img src=\"memory_profiler1.png\">\n",
    "\n",
    "**calc_pure_python**\n",
    "\n",
    "In the image it can be seen that the memory usage starts at 25.31 MiB before the function begins. As the function sets up initial variables and enters loops to populate the lists, there is no significant change in memory usage. This suggests that these lists are relatively small. A substantial memory increment occurs as the lists `zs` and `cs` are populated inside the nested loops. The memory jumps by 287.15 MiB to a total of 101.82 when creating these lists, which suggests that these lists contain a large number of complex numbers, but the largest memory increment occurs when appending `zs` and `cs` because these lists are very large.\n",
    "\n",
    "The final recorded memory usage after the function is completed, as will be seen in the next image, is 113.10 MiB, which is higher than the initial usage.\n",
    "\n",
    "<img src=\"memory_profiler2.png\">\n",
    "\n",
    "**calculate_z_serial_purepython**\n",
    "\n",
    "In this case, the initial memory of the function is 101.82 MiB. The function increases memory usage by 7.65 MiB when it creates the list `output`, this being the only significant memory increment within the function.\n",
    "\n",
    "Now, run `memory_profiler` to compare results:"
   ]
  },
  {
   "cell_type": "code",
   "execution_count": 18,
   "id": "62c9329c",
   "metadata": {},
   "outputs": [
    {
     "name": "stdout",
     "output_type": "stream",
     "text": [
      "Requirement already satisfied: memory_profiler in /home/juli/anaconda3/lib/python3.11/site-packages (0.61.0)\n",
      "Requirement already satisfied: psutil in /home/juli/anaconda3/lib/python3.11/site-packages (from memory_profiler) (5.9.0)\n",
      "Lenght of x: 1000\n",
      "Total elements: 1000000\n",
      "@timefn:calculate_z_serial_purepython took 4.152618646621704 seconds\n",
      "calculate_z_serial_purepython took 4.152669429779053 seconds\n",
      "peak memory: 175.87 MiB, increment: 62.36 MiB\n"
     ]
    }
   ],
   "source": [
    "!pip install memory_profiler\n",
    "%load_ext memory_profiler\n",
    "%memit calc_pure_python(desired_width=1000, max_iterations=300)"
   ]
  },
  {
   "cell_type": "markdown",
   "id": "e4135e8b",
   "metadata": {},
   "source": [
    "## Conclusion\n",
    "\n",
    "This exercise was useful to understand benchmarking and profiling, essential practices that can help programmers to make better and optimized functions and code with efficient resource management and that can also enhance user experience. Using this techniques, bottlenecks and inefficient resource use can be identified. Ultimately, regular use of the techniques explored can very much improve and deliver high-quality programs.\n",
    "\n",
    "_All the code is in a .py file too!_"
   ]
  },
  {
   "cell_type": "code",
   "execution_count": null,
   "id": "4703f7e0",
   "metadata": {},
   "outputs": [],
   "source": []
  }
 ],
 "metadata": {
  "kernelspec": {
   "display_name": "Python 3 (ipykernel)",
   "language": "python",
   "name": "python3"
  },
  "language_info": {
   "codemirror_mode": {
    "name": "ipython",
    "version": 3
   },
   "file_extension": ".py",
   "mimetype": "text/x-python",
   "name": "python",
   "nbconvert_exporter": "python",
   "pygments_lexer": "ipython3",
   "version": "3.11.5"
  }
 },
 "nbformat": 4,
 "nbformat_minor": 5
}
