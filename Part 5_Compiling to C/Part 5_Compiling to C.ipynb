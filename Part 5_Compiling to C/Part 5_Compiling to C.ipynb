{
 "cells": [
  {
   "cell_type": "markdown",
   "id": "7ee151b5",
   "metadata": {},
   "source": [
    "# Part 5: Compiling to C\n",
    "## Step 16\n",
    "Conway's Game of Life is a classic example of a cellular automaton, first devised by the British mathematician John Horton Conway in 1970. This zero-player game unfolds on an infinite two-dimensional grid of cells, each of which can be in one of two states: alive (1) or dead (0). The evolution of the grid is determined by a set of rules that simulate the birth, death, and survival of cells.\n",
    "\n",
    "The game progresses in discrete time steps, or generations. At each step, the state of every cell is updated simultaneously based on the states of its eight neighboring cells.\n",
    "\n",
    "- An alive cell will remain alive in the next generation if it has two or three living neighbors, reflecting survival.\n",
    "- An alive cell will die if it has fewer than two or more than three living neighbors.\n",
    "- A dead cell will become alive if it has exactly three living neighbors, representing reproduction.\n",
    "- In all other cases, a dead cell remains dead.\n",
    "\n",
    "While the Game of Life is conceptually straightforward and can be implemented in any programming language, its computational performance can vary dramatically depending on the approach used. This is where the journey from Python to C through Cython becomes particularly interesting. Python, known for its readability and ease of use, is not always the most efficient language for processing intensive computational tasks such as simulating the Game of Life over large grids or for many generations. This is primarily due to its high-level nature and the overhead of dynamic typing.\n",
    "\n",
    "To address these performance concerns, we explore five different implementations of the Game of Life: one in Python and four progressively optimized versions using Cython.\n",
    "### Python"
   ]
  },
  {
   "cell_type": "code",
   "execution_count": 1,
   "id": "e1055cb3",
   "metadata": {},
   "outputs": [],
   "source": [
    "from python import *"
   ]
  },
  {
   "cell_type": "code",
   "execution_count": 2,
   "id": "081d3fe8",
   "metadata": {},
   "outputs": [
    {
     "name": "stdout",
     "output_type": "stream",
     "text": [
      "35.5 ms ± 4.39 ms per loop (mean ± std. dev. of 3 runs, 1 loop each)\n"
     ]
    }
   ],
   "source": [
    "import timeit\n",
    "\n",
    "def initialize_lattice_with_cross(box_size):\n",
    "    lattice = [[0 for _ in range(box_size)] for _ in range(box_size)]\n",
    "\n",
    "    # Define the cross in the center\n",
    "    center = box_size // 2\n",
    "    for i in range(box_size):\n",
    "        # Set middle column cells to 1\n",
    "        lattice[i][center] = 1\n",
    "        # Set middle row cells to 1\n",
    "        lattice[center][i] = 1\n",
    "\n",
    "    return lattice\n",
    "\n",
    "# Assuming update and update_rule functions are defined as you provided\n",
    "box_size = 300\n",
    "lattice = initialize_lattice_with_cross(box_size)\n",
    "\n",
    "# Time the update function\n",
    "%timeit -n 1 -r 3 py_update(lattice)"
   ]
  },
  {
   "cell_type": "markdown",
   "id": "4d18e9ac",
   "metadata": {},
   "source": [
    "This implementation uses the `update` function, that computes the next generation of the lattice (grid), following the rules of the Game of Life. And the `update_rule` function determines the fate of a single cell based on its neighbors' states.\n",
    "\n",
    "The `initialize_lattice_with_cross` function creates an initial grid (lattice) with a specific size (box_size), and initializes it to have a \"cross\" pattern of living cells at the center.\n",
    "\n",
    "Together, these functions set up the initial state of the grid and then evolve it by one generation.\n",
    "### Cython 1"
   ]
  },
  {
   "cell_type": "code",
   "execution_count": 3,
   "id": "4bce19fd",
   "metadata": {},
   "outputs": [],
   "source": [
    "from cython1 import *"
   ]
  },
  {
   "cell_type": "code",
   "execution_count": 9,
   "id": "01563090",
   "metadata": {},
   "outputs": [
    {
     "name": "stdout",
     "output_type": "stream",
     "text": [
      "31.1 ms ± 4.99 ms per loop (mean ± std. dev. of 3 runs, 1 loop each)\n"
     ]
    }
   ],
   "source": [
    "def initialize_lattice_with_cross(box_size):\n",
    "    lattice = [[0 for _ in range(box_size)] for _ in range(box_size)]\n",
    "\n",
    "    # Define the cross in the center\n",
    "    center = box_size // 2\n",
    "    for i in range(box_size):\n",
    "        # Set middle column cells to 1\n",
    "        lattice[i][center] = 1\n",
    "        # Set middle row cells to 1\n",
    "        lattice[center][i] = 1\n",
    "\n",
    "    return lattice\n",
    "\n",
    "box_size = 300\n",
    "lattice = initialize_lattice_with_cross(box_size)\n",
    "\n",
    "# Time the update function\n",
    "%timeit -n 1 -r 3 c1_update(lattice)"
   ]
  },
  {
   "cell_type": "markdown",
   "id": "a202290b",
   "metadata": {},
   "source": [
    "The functions of this version use Cython. The code improves primarily the compilation process. Cython compiles Python code to C, which is then compiled to machine code, leading to faster execution times. \n",
    "\n",
    "In this case, the nested for-loops in `update`, which iterate over each cell in the lattice, run faster because compiled C loops are more efficient than their interpreted Python counterparts. Also, the function `c1_update_rule` is called repeatedly within these loops. In Python, function calls are expensive, but in Cython, they can be optimized, especially if type declarations are used. Lastly, since the code is running at the C level, the overhead of Python's dynamic type checking and other runtime checks are avoided, resulting in performance gains.\n",
    "\n",
    "In this version, changes were not made to the logic of the code; the improvement is result of the Cython compilation process and the efficiencies it brings to Python code execution.\n",
    "### Cython 2"
   ]
  },
  {
   "cell_type": "code",
   "execution_count": 5,
   "id": "00f68ea9",
   "metadata": {},
   "outputs": [],
   "source": [
    "from cython2 import *"
   ]
  },
  {
   "cell_type": "code",
   "execution_count": 7,
   "id": "c0884cee",
   "metadata": {},
   "outputs": [
    {
     "name": "stdout",
     "output_type": "stream",
     "text": [
      "17.9 ms ± 3.45 ms per loop (mean ± std. dev. of 3 runs, 1 loop each)\n"
     ]
    }
   ],
   "source": [
    "box_size = 300\n",
    "lattice = initialize_lattice_with_cross(box_size)\n",
    "\n",
    "# Time the update function\n",
    "%timeit -n 1 -r 3 c2_update(lattice)"
   ]
  },
  {
   "cell_type": "markdown",
   "id": "6937f95a",
   "metadata": {},
   "source": [
    "In this implementation, the code has been adapted for Cython by adding type declarations to variables using `cdef`. These type declarations inform Cython that the variables are integers. This allows Cython to convert these Python variables into C variables when it compiles the code to C. By knowing the types beforehand, Cython can generate more optimized C code. This is because C is a statically-typed language, and when the types are known at compile time, the compiler can optimize the memory usage and the machine code it generates for operations involving those variables.\n",
    "### Cython 3"
   ]
  },
  {
   "cell_type": "code",
   "execution_count": 8,
   "id": "ecb446dd",
   "metadata": {},
   "outputs": [],
   "source": [
    "from cython3 import *"
   ]
  },
  {
   "cell_type": "code",
   "execution_count": 10,
   "id": "8a5a943e",
   "metadata": {},
   "outputs": [
    {
     "name": "stdout",
     "output_type": "stream",
     "text": [
      "15.1 ms ± 2.67 ms per loop (mean ± std. dev. of 3 runs, 1 loop each)\n"
     ]
    }
   ],
   "source": [
    "box_size = 300\n",
    "lattice = initialize_lattice_with_cross(box_size)\n",
    "\n",
    "# Time the update function\n",
    "%timeit -n 1 -r 3 c3_update(lattice)"
   ]
  },
  {
   "cell_type": "markdown",
   "id": "87245864",
   "metadata": {},
   "source": [
    "This version uses the `cdef` keyword in front of the `c3_update_rule` function declaration, indicating that the function is now a Cython function rather than a Python function. This change enhances performance further because Cython can now treat the function as a C function. As a result, when `c3_update_rule` is called from within the `c3_update` function, the call is made at C speed without the overhead of Python's function-calling mechanisms.\n",
    "\n",
    "### Cython 4"
   ]
  },
  {
   "cell_type": "code",
   "execution_count": 11,
   "id": "6d5389ad",
   "metadata": {},
   "outputs": [],
   "source": [
    "from cython4 import *"
   ]
  },
  {
   "cell_type": "code",
   "execution_count": 12,
   "id": "b847e224",
   "metadata": {},
   "outputs": [
    {
     "name": "stdout",
     "output_type": "stream",
     "text": [
      "14 ms ± 1.77 ms per loop (mean ± std. dev. of 3 runs, 1 loop each)\n"
     ]
    }
   ],
   "source": [
    "box_size = 300\n",
    "lattice = initialize_lattice_with_cross(box_size)\n",
    "\n",
    "# Time the update function\n",
    "%timeit -n 1 -r 3 c4_update(lattice)"
   ]
  },
  {
   "cell_type": "markdown",
   "id": "8cf7c7df",
   "metadata": {},
   "source": [
    "The directives at the top of this implementation are Cython compiler directives that instruct the Cython compiler to disable certain checks that are normally in place for safety but can slow down execution. By setting boundscheck=False, Cython skips checking whether index operations are within the bounds of the array or list. Similarly, wraparound=False disables the ability to use negative indices to access arrays from the end. These checks are useful and necessary for preventing errors in development and ensuring correctness in the code. However, they do incur a performance penalty due to the extra overhead. In tight loops, especially like those found in c4_update, which may be executed millions of times for large lattices, these checks can significantly slow down execution.\n",
    "\n",
    "This implementation is particularly useful in scenarios where the code has been thoroughly tested, and it is certain that index errors will not occur. This typically comes into play with well-understood algorithms like the Game of Life, where the boundaries and indexing patterns are predictable after careful development and testing.\n",
    "### Comparison"
   ]
  },
  {
   "cell_type": "code",
   "execution_count": 17,
   "id": "52e8f32e",
   "metadata": {},
   "outputs": [
    {
     "data": {
      "image/png": "[encoded data removed]",
      "text/plain": [
       "<Figure size 1000x500 with 1 Axes>"
      ]
     },
     "metadata": {},
     "output_type": "display_data"
    }
   ],
   "source": [
    "implementations = [py_update, c1_update, c2_update, c3_update, c4_update]\n",
    "times = []\n",
    "\n",
    "# Time each implementation\n",
    "for implementation in implementations:\n",
    "    t = timeit.timeit(lambda: implementation(lattice), number=10)\n",
    "    times.append(t)\n",
    "\n",
    "# Now plot the results\n",
    "labels = ['Python', 'Cython 1', 'Cython 2', 'Cython 3', 'Cython 4']\n",
    "plt.figure(figsize=(10, 5))\n",
    "plt.bar(labels, times, color='pink')\n",
    "plt.ylabel('Time (sec)')\n",
    "plt.title('Results')\n",
    "plt.show()"
   ]
  },
  {
   "cell_type": "markdown",
   "id": "34d3aa11",
   "metadata": {},
   "source": [
    "### Conclusion\n",
    "The progression from Python to increasingly refined Cython code demonstrates a consistent reduction in execution time, as shown in the tests. With each code implementation, strategic enhancements were integrated, such as type declarations and the removal of safety checks, resulting in a leaner and more efficient execution path that maximizes the hardware's potential.\n",
    "\n",
    "The trend is evident; as the code moves from the flexibility and simplicity of Python to the rigidity and raw speed of C, the performance benefits become clear. The initial transition to Cython offers a modest boost, but as the implementations dive deeper into Cython's capabilities, exploiting its ability to act as a bridge between Python's expressiveness and C's performance, we see that the execution time continues to drop. The culmination of this process in the fourth Cython implementation is the most performant, showcasing that for computationally intensive applications the careful application of Cython's features can lead to significant speed enhancements."
   ]
  }
 ],
 "metadata": {
  "kernelspec": {
   "display_name": "Python 3 (ipykernel)",
   "language": "python",
   "name": "python3"
  },
  "language_info": {
   "codemirror_mode": {
    "name": "ipython",
    "version": 3
   },
   "file_extension": ".py",
   "mimetype": "text/x-python",
   "name": "python",
   "nbconvert_exporter": "python",
   "pygments_lexer": "ipython3",
   "version": "3.11.5"
  }
 },
 "nbformat": 4,
 "nbformat_minor": 5
}
